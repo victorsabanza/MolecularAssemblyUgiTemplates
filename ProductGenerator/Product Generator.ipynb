{
 "cells": [
  {
   "cell_type": "markdown",
   "id": "f284c18c",
   "metadata": {},
   "source": [
    "Generate all possible Ugi products for a set of reactants and return a csv file with their smiles, chemical formula and protonated monoisotopic mass. It also generates a .png image with all the possible structures and calculates each product MA. (rdkit, pandas, massmol and assemblycalculatormodules are required)"
   ]
  },
  {
   "cell_type": "code",
   "execution_count": 2,
   "id": "d93760d5",
   "metadata": {},
   "outputs": [],
   "source": [
    "from rdkit import Chem\n",
    "from rdkit.Chem import AllChem\n",
    "from rdkit.Chem import Draw\n",
    "from rdkit.Chem.Draw import IPythonConsole\n",
    "from rdkit.Chem.Draw import MolDrawing, DrawingOptions\n",
    "from rdkit.Chem.SimpleEnum import Enumerator\n",
    "from rdkit.Chem import rdMolDescriptors\n",
    "import pandas as pd\n",
    "import numpy as np\n",
    "from molmass import Formula\n",
    "import assemblycalculator as ac"
   ]
  },
  {
   "cell_type": "markdown",
   "id": "2624386d",
   "metadata": {},
   "source": [
    "Now define functions to take "
   ]
  },
  {
   "cell_type": "code",
   "execution_count": 3,
   "id": "43d2ba38",
   "metadata": {},
   "outputs": [],
   "source": [
    "def get_reactants(file):\n",
    "    \n",
    "    '''Takes a txt file with the SMILES of the reactants and creates a list of lists with them'''\n",
    "    \n",
    "    with open(file,'r') as f:\n",
    "        lines = f.read()\n",
    "        mol = lines.split('\\n')\n",
    "        \n",
    "        reactants=[]\n",
    "        \n",
    "        for line in mol:\n",
    "            mols = line.split('.')\n",
    "            reactants.append(mols)\n",
    "        \n",
    "    return reactants\n",
    "\n",
    "\n",
    "def smile_to_mol(smiles):\n",
    "    '''Transform a list of SMILES into a list of Mols'''\n",
    "\n",
    "    mols = [Chem.MolFromSmiles(smile) for smile in smiles]\n",
    "\n",
    "    return mols\n",
    "\n",
    " \n",
    "def product_generator(reactants):\n",
    "    \n",
    "    '''Generates all possible products for a set of reactants in a given reaction (Ugi in this case, defined by the\n",
    "    SMARTS) and returns a list containing their SMILES.'''\n",
    "    \n",
    "    Ugi = AllChem.ReactionFromSmarts('[#6:1][NH2:2].[CX3H:3]=[O:7].[CX3:4](=[O:8])[OH:9].[CX4:99][N+:5]#[C-:6]>>[C:4](=[O:8])[N:2]([*:1])[*:3][C+0:6](=[O:9])[NX2H+0:5][CX4:99].[OH2:7]')\n",
    "    \n",
    "    products = Enumerator.EnumerateReaction(Ugi, reactants , uniqueProductsOnly=True)\n",
    "    \n",
    "    product_smiles = [Chem.MolToSmiles(product[0]) for product in products]\n",
    "    \n",
    "    return product_smiles\n"
   ]
  },
  {
   "cell_type": "markdown",
   "id": "67180cfb",
   "metadata": {},
   "source": [
    "Run code"
   ]
  },
  {
   "cell_type": "code",
   "execution_count": 4,
   "id": "84c61157",
   "metadata": {},
   "outputs": [],
   "source": [
    "reactants = get_reactants('test_smiles.txt')\n",
    "\n",
    "reactants = [smile_to_mol(fgroup) for fgroup in reactants]\n",
    "\n",
    "product_smiles = product_generator(reactants)"
   ]
  },
  {
   "cell_type": "markdown",
   "id": "34ff2a66",
   "metadata": {},
   "source": [
    "Calculate the molecular formula and the protonated monoisotopic peak for all the products"
   ]
  },
  {
   "cell_type": "code",
   "execution_count": 5,
   "id": "4adcb119",
   "metadata": {},
   "outputs": [],
   "source": [
    "def get_molecular_formula(smiles):\n",
    "    '''This function takes a list of SMILES and returns another list with their\n",
    "    corresponding molecular formulas'''\n",
    "\n",
    "    formulas = [rdMolDescriptors.CalcMolFormula(Chem.MolFromSmiles(smile)) for smile in smiles]\n",
    "\n",
    "    return formulas\n",
    "\n",
    "def estimate_monoisotopic_peak(molformulas):\n",
    "    '''This function takes a list of molecular formulas and returns a list \n",
    "    with their estimated monoisotopic peaks (adding one H+ due to positive ion\n",
    "    mode'''\n",
    "\n",
    "    peaks = [(Formula(molecule).isotope.mass + 1.007825) for molecule in molformulas]\n",
    "\n",
    "    return peaks\n",
    "\n",
    "\n",
    "formulas = get_molecular_formula(product_smiles)\n",
    "\n",
    "peaks = estimate_monoisotopic_peak(formulas)\n"
   ]
  },
  {
   "cell_type": "markdown",
   "id": "e341564f",
   "metadata": {},
   "source": [
    "Create a pd.DataFrame and include the data"
   ]
  },
  {
   "cell_type": "code",
   "execution_count": 7,
   "id": "f7f2c757",
   "metadata": {},
   "outputs": [
    {
     "data": {
      "text/html": [
       "<div>\n",
       "<style scoped>\n",
       "    .dataframe tbody tr th:only-of-type {\n",
       "        vertical-align: middle;\n",
       "    }\n",
       "\n",
       "    .dataframe tbody tr th {\n",
       "        vertical-align: top;\n",
       "    }\n",
       "\n",
       "    .dataframe thead th {\n",
       "        text-align: right;\n",
       "    }\n",
       "</style>\n",
       "<table border=\"1\" class=\"dataframe\">\n",
       "  <thead>\n",
       "    <tr style=\"text-align: right;\">\n",
       "      <th></th>\n",
       "      <th>Product SMILES</th>\n",
       "      <th>empirical formula</th>\n",
       "      <th>monoisotopic peak</th>\n",
       "    </tr>\n",
       "  </thead>\n",
       "  <tbody>\n",
       "    <tr>\n",
       "      <th>0</th>\n",
       "      <td>C=CCN(C(=O)c1ccccc1)C(CCCC)C(=O)NC1CCCCC1</td>\n",
       "      <td>C22H32N2O2</td>\n",
       "      <td>357.254203</td>\n",
       "    </tr>\n",
       "    <tr>\n",
       "      <th>1</th>\n",
       "      <td>C=CCN(C(=O)c1ccccc1)C(CCCC)C(=O)NC(C)(C)C</td>\n",
       "      <td>C20H30N2O2</td>\n",
       "      <td>331.238553</td>\n",
       "    </tr>\n",
       "    <tr>\n",
       "      <th>2</th>\n",
       "      <td>C=CCN(C(=O)CCCCC)C(CCCC)C(=O)NC1CCCCC1</td>\n",
       "      <td>C21H38N2O2</td>\n",
       "      <td>351.301153</td>\n",
       "    </tr>\n",
       "    <tr>\n",
       "      <th>3</th>\n",
       "      <td>C=CCN(C(=O)CCCCC)C(CCCC)C(=O)NC(C)(C)C</td>\n",
       "      <td>C19H36N2O2</td>\n",
       "      <td>325.285503</td>\n",
       "    </tr>\n",
       "    <tr>\n",
       "      <th>4</th>\n",
       "      <td>C=CCN(C(=O)C1CCCCC1)C(CCCC)C(=O)NC1CCCCC1</td>\n",
       "      <td>C22H38N2O2</td>\n",
       "      <td>363.301153</td>\n",
       "    </tr>\n",
       "  </tbody>\n",
       "</table>\n",
       "</div>"
      ],
      "text/plain": [
       "                              Product SMILES empirical formula  \\\n",
       "0  C=CCN(C(=O)c1ccccc1)C(CCCC)C(=O)NC1CCCCC1        C22H32N2O2   \n",
       "1  C=CCN(C(=O)c1ccccc1)C(CCCC)C(=O)NC(C)(C)C        C20H30N2O2   \n",
       "2     C=CCN(C(=O)CCCCC)C(CCCC)C(=O)NC1CCCCC1        C21H38N2O2   \n",
       "3     C=CCN(C(=O)CCCCC)C(CCCC)C(=O)NC(C)(C)C        C19H36N2O2   \n",
       "4  C=CCN(C(=O)C1CCCCC1)C(CCCC)C(=O)NC1CCCCC1        C22H38N2O2   \n",
       "\n",
       "   monoisotopic peak  \n",
       "0         357.254203  \n",
       "1         331.238553  \n",
       "2         351.301153  \n",
       "3         325.285503  \n",
       "4         363.301153  "
      ]
     },
     "execution_count": 7,
     "metadata": {},
     "output_type": "execute_result"
    }
   ],
   "source": [
    "data = pd.DataFrame({'Product SMILES': product_smiles, 'empirical formula': formulas,\n",
    "                         'monoisotopic peak': peaks})\n",
    "\n",
    "\n",
    "data.head()"
   ]
  },
  {
   "cell_type": "markdown",
   "id": "1fbe92a9",
   "metadata": {},
   "source": [
    "Draw the products and save them as a .png image"
   ]
  },
  {
   "cell_type": "code",
   "execution_count": 8,
   "id": "7974cc81",
   "metadata": {},
   "outputs": [],
   "source": [
    "products_mol = [Chem.MolFromSmiles(product) for product in product_smiles]\n",
    "    \n",
    "images = Draw.MolsToGridImage(products_mol, molsPerRow=8, returnPNG=False, legends = formulas)\n",
    "\n",
    "images.save('products.png')"
   ]
  },
  {
   "cell_type": "markdown",
   "id": "b3b75a32",
   "metadata": {},
   "source": [
    "Finally, the MA of each product is calculated using the Monte Carlo method of the assemblycalculator module. The results are included in the DataFrame and saved as a csv file"
   ]
  },
  {
   "cell_type": "code",
   "execution_count": 9,
   "id": "35a8c1a8",
   "metadata": {},
   "outputs": [],
   "source": [
    "mas = []\n",
    "\n",
    "for smile in product_smiles:\n",
    "    \n",
    "    ma = ac.calculate_ma(smile, method= \"monte-carlo\", timeout = 3600, num_frags_hist = 1e6, path_samples = 1e5)\n",
    "    mas.append(ma)\n",
    "\n",
    "data['MA'] = mas\n",
    "\n",
    "data.to_csv('products_MA.csv', encoding = 'utf-8')\n"
   ]
  },
  {
   "cell_type": "code",
   "execution_count": 10,
   "id": "be570602",
   "metadata": {},
   "outputs": [
    {
     "data": {
      "text/html": [
       "<div>\n",
       "<style scoped>\n",
       "    .dataframe tbody tr th:only-of-type {\n",
       "        vertical-align: middle;\n",
       "    }\n",
       "\n",
       "    .dataframe tbody tr th {\n",
       "        vertical-align: top;\n",
       "    }\n",
       "\n",
       "    .dataframe thead th {\n",
       "        text-align: right;\n",
       "    }\n",
       "</style>\n",
       "<table border=\"1\" class=\"dataframe\">\n",
       "  <thead>\n",
       "    <tr style=\"text-align: right;\">\n",
       "      <th></th>\n",
       "      <th>Product SMILES</th>\n",
       "      <th>empirical formula</th>\n",
       "      <th>monoisotopic peak</th>\n",
       "      <th>MA</th>\n",
       "    </tr>\n",
       "  </thead>\n",
       "  <tbody>\n",
       "    <tr>\n",
       "      <th>0</th>\n",
       "      <td>C=CCN(C(=O)c1ccccc1)C(CCCC)C(=O)NC1CCCCC1</td>\n",
       "      <td>C22H32N2O2</td>\n",
       "      <td>357.254203</td>\n",
       "      <td>15</td>\n",
       "    </tr>\n",
       "    <tr>\n",
       "      <th>1</th>\n",
       "      <td>C=CCN(C(=O)c1ccccc1)C(CCCC)C(=O)NC(C)(C)C</td>\n",
       "      <td>C20H30N2O2</td>\n",
       "      <td>331.238553</td>\n",
       "      <td>16</td>\n",
       "    </tr>\n",
       "    <tr>\n",
       "      <th>2</th>\n",
       "      <td>C=CCN(C(=O)CCCCC)C(CCCC)C(=O)NC1CCCCC1</td>\n",
       "      <td>C21H38N2O2</td>\n",
       "      <td>351.301153</td>\n",
       "      <td>11</td>\n",
       "    </tr>\n",
       "    <tr>\n",
       "      <th>3</th>\n",
       "      <td>C=CCN(C(=O)CCCCC)C(CCCC)C(=O)NC(C)(C)C</td>\n",
       "      <td>C19H36N2O2</td>\n",
       "      <td>325.285503</td>\n",
       "      <td>14</td>\n",
       "    </tr>\n",
       "    <tr>\n",
       "      <th>4</th>\n",
       "      <td>C=CCN(C(=O)C1CCCCC1)C(CCCC)C(=O)NC1CCCCC1</td>\n",
       "      <td>C22H38N2O2</td>\n",
       "      <td>363.301153</td>\n",
       "      <td>12</td>\n",
       "    </tr>\n",
       "  </tbody>\n",
       "</table>\n",
       "</div>"
      ],
      "text/plain": [
       "                              Product SMILES empirical formula  \\\n",
       "0  C=CCN(C(=O)c1ccccc1)C(CCCC)C(=O)NC1CCCCC1        C22H32N2O2   \n",
       "1  C=CCN(C(=O)c1ccccc1)C(CCCC)C(=O)NC(C)(C)C        C20H30N2O2   \n",
       "2     C=CCN(C(=O)CCCCC)C(CCCC)C(=O)NC1CCCCC1        C21H38N2O2   \n",
       "3     C=CCN(C(=O)CCCCC)C(CCCC)C(=O)NC(C)(C)C        C19H36N2O2   \n",
       "4  C=CCN(C(=O)C1CCCCC1)C(CCCC)C(=O)NC1CCCCC1        C22H38N2O2   \n",
       "\n",
       "   monoisotopic peak  MA  \n",
       "0         357.254203  15  \n",
       "1         331.238553  16  \n",
       "2         351.301153  11  \n",
       "3         325.285503  14  \n",
       "4         363.301153  12  "
      ]
     },
     "execution_count": 10,
     "metadata": {},
     "output_type": "execute_result"
    }
   ],
   "source": [
    "data.head()"
   ]
  },
  {
   "cell_type": "code",
   "execution_count": null,
   "id": "a3ec5457",
   "metadata": {},
   "outputs": [],
   "source": []
  }
 ],
 "metadata": {
  "kernelspec": {
   "display_name": "Python 3 (ipykernel)",
   "language": "python",
   "name": "python3"
  },
  "language_info": {
   "codemirror_mode": {
    "name": "ipython",
    "version": 3
   },
   "file_extension": ".py",
   "mimetype": "text/x-python",
   "name": "python",
   "nbconvert_exporter": "python",
   "pygments_lexer": "ipython3",
   "version": "3.7.11"
  }
 },
 "nbformat": 4,
 "nbformat_minor": 5
}
